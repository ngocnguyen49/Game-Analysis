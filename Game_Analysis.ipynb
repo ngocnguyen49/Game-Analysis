{
 "cells": [
  {
   "cell_type": "markdown",
   "metadata": {},
   "source": [
    "## Reading Data"
   ]
  },
  {
   "cell_type": "code",
   "execution_count": null,
   "metadata": {},
   "outputs": [],
   "source": [
    "# Import package\n",
    "import pandas as pd\n",
    "import numpy as np\n",
    "import matplotlib as plt\n",
    "import seaborn as sns"
   ]
  },
  {
   "cell_type": "code",
   "execution_count": 83,
   "metadata": {},
   "outputs": [],
   "source": [
    "# Read data\n",
    "df = pd.read_csv('data_interview.csv')"
   ]
  },
  {
   "cell_type": "code",
   "execution_count": 84,
   "metadata": {},
   "outputs": [
    {
     "data": {
      "text/html": [
       "<div>\n",
       "<style scoped>\n",
       "    .dataframe tbody tr th:only-of-type {\n",
       "        vertical-align: middle;\n",
       "    }\n",
       "\n",
       "    .dataframe tbody tr th {\n",
       "        vertical-align: top;\n",
       "    }\n",
       "\n",
       "    .dataframe thead th {\n",
       "        text-align: right;\n",
       "    }\n",
       "</style>\n",
       "<table border=\"1\" class=\"dataframe\">\n",
       "  <thead>\n",
       "    <tr style=\"text-align: right;\">\n",
       "      <th></th>\n",
       "      <th>STT</th>\n",
       "      <th>date_time</th>\n",
       "      <th>event_name</th>\n",
       "      <th>level</th>\n",
       "      <th>user</th>\n",
       "      <th>day_diff</th>\n",
       "      <th>day0</th>\n",
       "      <th>mode_game</th>\n",
       "      <th>win</th>\n",
       "      <th>reason_to_die</th>\n",
       "      <th>quantity</th>\n",
       "      <th>version</th>\n",
       "    </tr>\n",
       "  </thead>\n",
       "  <tbody>\n",
       "    <tr>\n",
       "      <th>0</th>\n",
       "      <td>40</td>\n",
       "      <td>10/28/2023</td>\n",
       "      <td>game_start</td>\n",
       "      <td>1</td>\n",
       "      <td>1cffd052-4616-4d29-bfd5-950e23b763d4</td>\n",
       "      <td>0</td>\n",
       "      <td>10/28/2023</td>\n",
       "      <td>normal</td>\n",
       "      <td>NaN</td>\n",
       "      <td>NaN</td>\n",
       "      <td>0</td>\n",
       "      <td>1.6.0</td>\n",
       "    </tr>\n",
       "    <tr>\n",
       "      <th>1</th>\n",
       "      <td>41</td>\n",
       "      <td>10/28/2023</td>\n",
       "      <td>game_start</td>\n",
       "      <td>1</td>\n",
       "      <td>1cffd052-4616-4d29-bfd5-950e23b763d4</td>\n",
       "      <td>0</td>\n",
       "      <td>10/28/2023</td>\n",
       "      <td>normal</td>\n",
       "      <td>NaN</td>\n",
       "      <td>NaN</td>\n",
       "      <td>0</td>\n",
       "      <td>1.6.0</td>\n",
       "    </tr>\n",
       "    <tr>\n",
       "      <th>2</th>\n",
       "      <td>42</td>\n",
       "      <td>10/28/2023</td>\n",
       "      <td>game_start</td>\n",
       "      <td>2</td>\n",
       "      <td>1cffd052-4616-4d29-bfd5-950e23b763d4</td>\n",
       "      <td>0</td>\n",
       "      <td>10/28/2023</td>\n",
       "      <td>normal</td>\n",
       "      <td>NaN</td>\n",
       "      <td>NaN</td>\n",
       "      <td>0</td>\n",
       "      <td>1.6.0</td>\n",
       "    </tr>\n",
       "    <tr>\n",
       "      <th>3</th>\n",
       "      <td>43</td>\n",
       "      <td>10/28/2023</td>\n",
       "      <td>game_start</td>\n",
       "      <td>3</td>\n",
       "      <td>1cffd052-4616-4d29-bfd5-950e23b763d4</td>\n",
       "      <td>0</td>\n",
       "      <td>10/28/2023</td>\n",
       "      <td>normal</td>\n",
       "      <td>NaN</td>\n",
       "      <td>NaN</td>\n",
       "      <td>0</td>\n",
       "      <td>1.6.0</td>\n",
       "    </tr>\n",
       "  </tbody>\n",
       "</table>\n",
       "</div>"
      ],
      "text/plain": [
       "   STT   date_time  event_name  level                                  user  \\\n",
       "0   40  10/28/2023  game_start      1  1cffd052-4616-4d29-bfd5-950e23b763d4   \n",
       "1   41  10/28/2023  game_start      1  1cffd052-4616-4d29-bfd5-950e23b763d4   \n",
       "2   42  10/28/2023  game_start      2  1cffd052-4616-4d29-bfd5-950e23b763d4   \n",
       "3   43  10/28/2023  game_start      3  1cffd052-4616-4d29-bfd5-950e23b763d4   \n",
       "\n",
       "   day_diff        day0 mode_game  win reason_to_die  quantity version  \n",
       "0         0  10/28/2023    normal  NaN           NaN         0   1.6.0  \n",
       "1         0  10/28/2023    normal  NaN           NaN         0   1.6.0  \n",
       "2         0  10/28/2023    normal  NaN           NaN         0   1.6.0  \n",
       "3         0  10/28/2023    normal  NaN           NaN         0   1.6.0  "
      ]
     },
     "execution_count": 84,
     "metadata": {},
     "output_type": "execute_result"
    }
   ],
   "source": [
    "# Print head of df\n",
    "df.head(4)"
   ]
  },
  {
   "cell_type": "markdown",
   "metadata": {},
   "source": [
    "## EDA"
   ]
  },
  {
   "cell_type": "code",
   "execution_count": 85,
   "metadata": {},
   "outputs": [
    {
     "name": "stdout",
     "output_type": "stream",
     "text": [
      "<class 'pandas.core.frame.DataFrame'>\n",
      "RangeIndex: 798332 entries, 0 to 798331\n",
      "Data columns (total 12 columns):\n",
      " #   Column         Non-Null Count   Dtype  \n",
      "---  ------         --------------   -----  \n",
      " 0   STT            798332 non-null  int64  \n",
      " 1   date_time      798332 non-null  object \n",
      " 2   event_name     798332 non-null  object \n",
      " 3   level          798332 non-null  int64  \n",
      " 4   user           798332 non-null  object \n",
      " 5   day_diff       798332 non-null  int64  \n",
      " 6   day0           798332 non-null  object \n",
      " 7   mode_game      798332 non-null  object \n",
      " 8   win            243697 non-null  float64\n",
      " 9   reason_to_die  117413 non-null  object \n",
      " 10  quantity       798332 non-null  int64  \n",
      " 11  version        798332 non-null  object \n",
      "dtypes: float64(1), int64(4), object(7)\n",
      "memory usage: 73.1+ MB\n"
     ]
    }
   ],
   "source": [
    "# Check df info\n",
    "df.info()"
   ]
  },
  {
   "cell_type": "code",
   "execution_count": 86,
   "metadata": {},
   "outputs": [
    {
     "data": {
      "text/plain": [
       "win\n",
       "1.0    126284\n",
       "0.0    117413\n",
       "Name: count, dtype: int64"
      ]
     },
     "execution_count": 86,
     "metadata": {},
     "output_type": "execute_result"
    }
   ],
   "source": [
    "# Check value of win column\n",
    "df['win'].value_counts()"
   ]
  },
  {
   "cell_type": "code",
   "execution_count": 87,
   "metadata": {},
   "outputs": [
    {
     "data": {
      "text/plain": [
       "reason_to_die\n",
       "out_of_lives         99966\n",
       "out_of_lives_plus    17447\n",
       "Name: count, dtype: int64"
      ]
     },
     "execution_count": 87,
     "metadata": {},
     "output_type": "execute_result"
    }
   ],
   "source": [
    "# Check value of reason_to_die column\n",
    "df['reason_to_die'].value_counts()"
   ]
  },
  {
   "cell_type": "code",
   "execution_count": 88,
   "metadata": {},
   "outputs": [],
   "source": [
    "# Replace NaN values with a blank string in win, reaseon_to_die columns:\n",
    "df['win'] = df['win'].fillna('')\n",
    "df['reason_to_die'] = df['reason_to_die'].fillna('')"
   ]
  },
  {
   "cell_type": "code",
   "execution_count": 89,
   "metadata": {},
   "outputs": [
    {
     "data": {
      "text/plain": [
       "win\n",
       "       554635\n",
       "1.0    126284\n",
       "0.0    117413\n",
       "Name: count, dtype: int64"
      ]
     },
     "execution_count": 89,
     "metadata": {},
     "output_type": "execute_result"
    }
   ],
   "source": [
    "df['win'].value_counts()"
   ]
  },
  {
   "cell_type": "code",
   "execution_count": 90,
   "metadata": {},
   "outputs": [
    {
     "data": {
      "text/plain": [
       "mode_game\n",
       "normal      493496\n",
       "ue          159896\n",
       "tutorial    108587\n",
       "ss           36353\n",
       "Name: count, dtype: int64"
      ]
     },
     "execution_count": 90,
     "metadata": {},
     "output_type": "execute_result"
    }
   ],
   "source": [
    "# Check how many value mode game column is tutorial\n",
    "df['mode_game'].value_counts()"
   ]
  },
  {
   "cell_type": "code",
   "execution_count": 91,
   "metadata": {},
   "outputs": [
    {
     "data": {
      "text/plain": [
       "quantity\n",
       "-1    14212\n",
       " 1    13543\n",
       " 2    13384\n",
       " 3    13317\n",
       " 4    13267\n",
       "-2    13209\n",
       " 5     6749\n",
       " 6     6736\n",
       " 7     6726\n",
       " 8     6713\n",
       " 0      731\n",
       "Name: count, dtype: int64"
      ]
     },
     "execution_count": 91,
     "metadata": {},
     "output_type": "execute_result"
    }
   ],
   "source": [
    "# Check value of quantity column with filter tutorial in mode game column\n",
    "df[df['mode_game'] == 'tutorial']['quantity'].value_counts()\n"
   ]
  },
  {
   "cell_type": "code",
   "execution_count": 92,
   "metadata": {},
   "outputs": [
    {
     "data": {
      "text/plain": [
       "version\n",
       "1.6.0    372\n",
       "1.5.2    359\n",
       "Name: count, dtype: int64"
      ]
     },
     "execution_count": 92,
     "metadata": {},
     "output_type": "execute_result"
    }
   ],
   "source": [
    "# The number of user skip the tutorial between two version\n",
    "df[(df['mode_game'] == 'tutorial') & (df['quantity'] == 0)]['version'].value_counts()"
   ]
  },
  {
   "cell_type": "code",
   "execution_count": 93,
   "metadata": {},
   "outputs": [
    {
     "data": {
      "text/plain": [
       "quantity\n",
       "-1    7224\n",
       " 1    6885\n",
       " 2    6811\n",
       " 3    6782\n",
       " 4    6759\n",
       " 5    6749\n",
       " 6    6736\n",
       " 7    6726\n",
       " 8    6713\n",
       "-2    6712\n",
       " 0     372\n",
       "Name: count, dtype: int64"
      ]
     },
     "execution_count": 93,
     "metadata": {},
     "output_type": "execute_result"
    }
   ],
   "source": [
    "# How many steps in tutorial for  version 1.6.0\n",
    "df[(df['mode_game'] == 'tutorial') & (df['version'] == '1.6.0')]['quantity'].value_counts()"
   ]
  },
  {
   "cell_type": "code",
   "execution_count": 94,
   "metadata": {},
   "outputs": [
    {
     "data": {
      "text/plain": [
       "quantity\n",
       "-1    6988\n",
       " 1    6658\n",
       " 2    6573\n",
       " 3    6535\n",
       " 4    6508\n",
       "-2    6497\n",
       " 0     359\n",
       "Name: count, dtype: int64"
      ]
     },
     "execution_count": 94,
     "metadata": {},
     "output_type": "execute_result"
    }
   ],
   "source": [
    "# How many steps in tutorial for  version 1.5.2\n",
    "df[(df['mode_game'] == 'tutorial') & (df['version'] == '1.5.2')]['quantity'].value_counts()"
   ]
  },
  {
   "cell_type": "code",
   "execution_count": 138,
   "metadata": {},
   "outputs": [
    {
     "data": {
      "text/plain": [
       "day_diff\n",
       "0    107161\n",
       "1       817\n",
       "2       252\n",
       "3       144\n",
       "6        66\n",
       "4        62\n",
       "7        56\n",
       "5        29\n",
       "Name: count, dtype: int64"
      ]
     },
     "execution_count": 138,
     "metadata": {},
     "output_type": "execute_result"
    }
   ],
   "source": [
    "# day_diff vs tutorial\n",
    "df[(df['mode_game'] == 'tutorial')]['day_diff'].value_counts()"
   ]
  },
  {
   "cell_type": "code",
   "execution_count": 139,
   "metadata": {},
   "outputs": [
    {
     "data": {
      "text/plain": [
       "13584"
      ]
     },
     "execution_count": 139,
     "metadata": {},
     "output_type": "execute_result"
    }
   ],
   "source": [
    "df['user'].nunique()"
   ]
  },
  {
   "cell_type": "code",
   "execution_count": 141,
   "metadata": {},
   "outputs": [
    {
     "data": {
      "text/plain": [
       "version\n",
       "1.6.0    106113\n",
       "1.5.2     90136\n",
       "Name: count, dtype: int64"
      ]
     },
     "execution_count": 141,
     "metadata": {},
     "output_type": "execute_result"
    }
   ],
   "source": [
    "df[df['event_name'] == 'user_engagement']['version'].value_counts()"
   ]
  },
  {
   "cell_type": "code",
   "execution_count": null,
   "metadata": {},
   "outputs": [],
   "source": [
    "# Conlusion\n",
    "# No much diffrent in number of user completed the tutorial, skip the tutorial.\n",
    "# There are 4 steps in tutorial for version 1.5.2, 8 steps for version 1.6.0.\n",
    "# Most of people watch the tutorial in the same day they openned the game.\n",
    "# There are 13584 unique user in data\n",
    "# User engagement in version 1.6.0 is more than in version 1.5.2"
   ]
  },
  {
   "cell_type": "markdown",
   "metadata": {},
   "source": [
    "## Divine data into two group of version 1.5.2, 1.6.0"
   ]
  },
  {
   "cell_type": "code",
   "execution_count": 142,
   "metadata": {},
   "outputs": [
    {
     "name": "stdout",
     "output_type": "stream",
     "text": [
      "(357718, 12)\n"
     ]
    }
   ],
   "source": [
    "# Filter data for group version 1.5.2\n",
    "df_152 = df[df['version'] == '1.5.2']\n",
    "print(df_152.shape)"
   ]
  },
  {
   "cell_type": "code",
   "execution_count": 143,
   "metadata": {},
   "outputs": [
    {
     "name": "stdout",
     "output_type": "stream",
     "text": [
      "(440614, 12)\n"
     ]
    }
   ],
   "source": [
    "# Filter data for group version 1.6.0\n",
    "df_160 = df[df['version'] == '1.6.0']\n",
    "print(df_160.shape)"
   ]
  },
  {
   "cell_type": "markdown",
   "metadata": {},
   "source": [
    "## Calculating retention"
   ]
  },
  {
   "cell_type": "code",
   "execution_count": 146,
   "metadata": {},
   "outputs": [],
   "source": [
    "# The purpose of this function : Detect status of tutorial based on quantity column\n",
    "def map_tutorial_status(row):\n",
    "    if row['event_name'] == 'tutorial':\n",
    "        # Apply the original function logic when 'e' column is 'tutorial'\n",
    "        if row['quantity'] == -2:\n",
    "            return \"completed\"\n",
    "        elif row['quantity'] == 0:\n",
    "            return \"skip\"\n",
    "        elif row['quantity'] in (-1, 1, 2, 3, 4, 5, 6, 7, 8):\n",
    "            return \"processing\"\n",
    "    # Otherwise, return \"duration\" for other cases\n",
    "    return \"duration\""
   ]
  },
  {
   "cell_type": "code",
   "execution_count": 147,
   "metadata": {},
   "outputs": [
    {
     "name": "stderr",
     "output_type": "stream",
     "text": [
      "C:\\Users\\USER\\AppData\\Local\\Temp\\ipykernel_27580\\3281214792.py:2: SettingWithCopyWarning: \n",
      "A value is trying to be set on a copy of a slice from a DataFrame.\n",
      "Try using .loc[row_indexer,col_indexer] = value instead\n",
      "\n",
      "See the caveats in the documentation: https://pandas.pydata.org/pandas-docs/stable/user_guide/indexing.html#returning-a-view-versus-a-copy\n",
      "  df_152['tutorial_status'] = df_152.apply(map_tutorial_status, axis=1)\n"
     ]
    }
   ],
   "source": [
    "# Apply the map_tutorial_status function for version 1.5.2\n",
    "df_152['tutorial_status'] = df_152.apply(map_tutorial_status, axis=1)\n"
   ]
  },
  {
   "cell_type": "code",
   "execution_count": null,
   "metadata": {},
   "outputs": [],
   "source": [
    "# NUmber of user completed the tutorial for version 1.5.2\n",
    "# Filter rows where tutorial_status is \"completed\"\n",
    "completed_152_df = df_152[df_152['tutorial_status'] == 'completed']\n",
    "\n",
    "# Group by user_id and count occurrences\n",
    "completed_152_counts = completed_152_df.groupby('user').size().reset_index(name='completed_152_counts')\n",
    "\n",
    "# Count number unique user completed the tutorial\n",
    "completed_152_counts['completed_152_counts'].sum()"
   ]
  },
  {
   "cell_type": "code",
   "execution_count": null,
   "metadata": {},
   "outputs": [],
   "source": [
    "# Filter user who had completed the tutorial\n",
    "unique_user_152 = completed_152_counts['user'].tolist()"
   ]
  },
  {
   "cell_type": "code",
   "execution_count": null,
   "metadata": {},
   "outputs": [],
   "source": [
    "# NUmber of use who return after completed the tutorial for version 1.5.2\n",
    "returned_152_df = df_152[(df_152['day_diff'] > 0) & (df_152['user'].isin(unique_user_152))]\n",
    "\n",
    "# Group by user_id and count occurrences\n",
    "returned_152_counts = returned_152_df.groupby('user')['date_time'].nunique().reset_index(name='returned_152_counts')\n",
    "\n",
    "# Count number unique user who returns after completing tutorial\n",
    "returned_152_counts['user'].count()"
   ]
  },
  {
   "cell_type": "code",
   "execution_count": 193,
   "metadata": {},
   "outputs": [],
   "source": [
    "# Retention rate for version 1.5.2\n",
    "retension_rate_152 = 2335/6497"
   ]
  },
  {
   "cell_type": "code",
   "execution_count": 172,
   "metadata": {},
   "outputs": [
    {
     "name": "stderr",
     "output_type": "stream",
     "text": [
      "C:\\Users\\USER\\AppData\\Local\\Temp\\ipykernel_27580\\3482044717.py:2: SettingWithCopyWarning: \n",
      "A value is trying to be set on a copy of a slice from a DataFrame.\n",
      "Try using .loc[row_indexer,col_indexer] = value instead\n",
      "\n",
      "See the caveats in the documentation: https://pandas.pydata.org/pandas-docs/stable/user_guide/indexing.html#returning-a-view-versus-a-copy\n",
      "  df_160['tutorial_status'] = df_160.apply(map_tutorial_status, axis=1)\n"
     ]
    }
   ],
   "source": [
    "# Apply the map_tutorial_status func for version 1.6.0\n",
    "df_160['tutorial_status'] = df_160.apply(map_tutorial_status, axis=1)\n"
   ]
  },
  {
   "cell_type": "code",
   "execution_count": 174,
   "metadata": {},
   "outputs": [
    {
     "data": {
      "text/plain": [
       "np.int64(6712)"
      ]
     },
     "execution_count": 174,
     "metadata": {},
     "output_type": "execute_result"
    }
   ],
   "source": [
    "# NUmber of user completed the tutorial for version 1.6.0\n",
    "# Filter rows where tutorial_status is \"completed\"\n",
    "completed_160_df = df_160[df_160['tutorial_status'] == 'completed']\n",
    "\n",
    "# Group by user_id and count occurrences\n",
    "completed_counts_160 = completed_160_df.groupby('user').size().reset_index(name='completed_counts_160')\n",
    "\n",
    "# Count number of user who completed the tutorial\n",
    "completed_counts_160['completed_counts_160'].sum()"
   ]
  },
  {
   "cell_type": "code",
   "execution_count": 175,
   "metadata": {},
   "outputs": [],
   "source": [
    "# Filter user who had completed the tutorial\n",
    "unique_user_160 = completed_counts_160['user'].tolist()"
   ]
  },
  {
   "cell_type": "code",
   "execution_count": 176,
   "metadata": {},
   "outputs": [
    {
     "data": {
      "text/plain": [
       "np.int64(2727)"
      ]
     },
     "execution_count": 176,
     "metadata": {},
     "output_type": "execute_result"
    }
   ],
   "source": [
    "# NUmber of use who return after completed the tutorial for version 1.6.0\n",
    "returned_df = df_160[(df_160['day_diff'] > 0) & (df_160['user'].isin(unique_user_160))]\n",
    "\n",
    "# Group by user_id and count occurrences\n",
    "returned_counts_160 = returned_df.groupby('user')['date_time'].nunique().reset_index(name='returned_count_160')\n",
    "\n",
    "# NUmber of user who returned after watching the tutorial\n",
    "returned_counts_160['user'].count()\n"
   ]
  },
  {
   "cell_type": "code",
   "execution_count": 194,
   "metadata": {},
   "outputs": [],
   "source": [
    "# Retention rate for version 1.6.0\n",
    "retention_rate_160 = 2727/6712"
   ]
  },
  {
   "cell_type": "markdown",
   "metadata": {},
   "source": [
    "## Win rate after completing the tutorial"
   ]
  },
  {
   "cell_type": "code",
   "execution_count": 188,
   "metadata": {},
   "outputs": [],
   "source": [
    "# Version 1.5.2\n",
    "win_unique_user_152 = df_152[(df_152['day_diff'] > 0) & (df_152['user'].isin(unique_user_152)) & (df_152['win'] == 1.0)]['user'].nunique()"
   ]
  },
  {
   "cell_type": "code",
   "execution_count": 189,
   "metadata": {},
   "outputs": [
    {
     "data": {
      "text/plain": [
       "0.29167307988302293"
      ]
     },
     "execution_count": 189,
     "metadata": {},
     "output_type": "execute_result"
    }
   ],
   "source": [
    "# Win rate for version 1.5.2 : win_unique_user / total unique user completed the tutorial\n",
    "\n",
    "win_unique_user_152 / 6497"
   ]
  },
  {
   "cell_type": "code",
   "execution_count": 190,
   "metadata": {},
   "outputs": [],
   "source": [
    "# Version 1.6.0\n",
    "win_unique_user_160 = df_160[(df_160['day_diff'] > 0) & (df_160['user'].isin(unique_user_160)) & (df_160['win'] == 1.0)]['user'].nunique()"
   ]
  },
  {
   "cell_type": "code",
   "execution_count": 191,
   "metadata": {},
   "outputs": [
    {
     "data": {
      "text/plain": [
       "0.33134684147794996"
      ]
     },
     "execution_count": 191,
     "metadata": {},
     "output_type": "execute_result"
    }
   ],
   "source": [
    "# Win rate for version 1.6.0 : win_unique_user / total unique user completed the tutorial\n",
    "\n",
    "win_unique_user_160 / 6712"
   ]
  },
  {
   "cell_type": "markdown",
   "metadata": {},
   "source": [
    "## a/b testing Win rate"
   ]
  },
  {
   "cell_type": "code",
   "execution_count": 204,
   "metadata": {},
   "outputs": [
    {
     "name": "stdout",
     "output_type": "stream",
     "text": [
      "Z-Statistic: -4.920881637805303, P-Value: 8.615522485345721e-07\n",
      "Statistically significant difference in win rates between Version 1.5.2 and Version 1.6.0.\n"
     ]
    }
   ],
   "source": [
    "from statsmodels.stats.proportion import proportions_ztest\n",
    "\n",
    "# Successes and observations for each group\n",
    "successes = [win_unique_user_152, win_unique_user_160]\n",
    "observations = [6497, 6712]\n",
    "\n",
    "# Perform Z-Test\n",
    "z_stat, p_val = proportions_ztest(successes, observations)\n",
    "print(f\"Z-Statistic: {z_stat}, P-Value: {p_val}\")\n",
    "\n",
    "if p_val < 0.05:\n",
    "    print(\"Statistically significant difference in win rates between Version 1.5.2 and Version 1.6.0.\")\n",
    "else:\n",
    "    print(\"No statistically significant difference in win rates between Version 1.5.2 and Version 1.6.0.\")"
   ]
  },
  {
   "cell_type": "code",
   "execution_count": 216,
   "metadata": {},
   "outputs": [
    {
     "name": "stdout",
     "output_type": "stream",
     "text": [
      "Z-Statistic: -0.03935082096821081, P-Value: 0.9686106886941962\n",
      "No statistically significant difference in retention rates between Version 1.5.2 and Version 1.6.0.\n"
     ]
    }
   ],
   "source": [
    "# Successes and observations for each group\n",
    "successes = [retension_rate_152, retention_rate_160]\n",
    "observations = [6497, 6712]\n",
    "\n",
    "# Perform Z-Test\n",
    "z_stat, p_val = proportions_ztest(successes, observations)\n",
    "print(f\"Z-Statistic: {z_stat}, P-Value: {p_val}\")\n",
    "\n",
    "if p_val < 0.05:\n",
    "    print(\"Statistically significant difference in retention rates between Version 1.5.2 and Version 1.6.0.\")\n",
    "else:\n",
    "    print(\"No statistically significant difference in retention rates between Version 1.5.2 and Version 1.6.0.\")"
   ]
  },
  {
   "cell_type": "code",
   "execution_count": 218,
   "metadata": {},
   "outputs": [
    {
     "data": {
      "text/html": [
       "<div>\n",
       "<style scoped>\n",
       "    .dataframe tbody tr th:only-of-type {\n",
       "        vertical-align: middle;\n",
       "    }\n",
       "\n",
       "    .dataframe tbody tr th {\n",
       "        vertical-align: top;\n",
       "    }\n",
       "\n",
       "    .dataframe thead th {\n",
       "        text-align: right;\n",
       "    }\n",
       "</style>\n",
       "<table border=\"1\" class=\"dataframe\">\n",
       "  <thead>\n",
       "    <tr style=\"text-align: right;\">\n",
       "      <th></th>\n",
       "      <th>STT</th>\n",
       "      <th>date_time</th>\n",
       "      <th>event_name</th>\n",
       "      <th>level</th>\n",
       "      <th>user</th>\n",
       "      <th>day_diff</th>\n",
       "      <th>day0</th>\n",
       "      <th>mode_game</th>\n",
       "      <th>win</th>\n",
       "      <th>reason_to_die</th>\n",
       "      <th>quantity</th>\n",
       "      <th>version</th>\n",
       "      <th>tutorial_status</th>\n",
       "    </tr>\n",
       "  </thead>\n",
       "  <tbody>\n",
       "    <tr>\n",
       "      <th>723575</th>\n",
       "      <td>4310996</td>\n",
       "      <td>11/9/2023</td>\n",
       "      <td>game_end</td>\n",
       "      <td>62</td>\n",
       "      <td>98d9de28-c32e-4994-bbf0-8ebc4ccfaaad</td>\n",
       "      <td>6</td>\n",
       "      <td>11/3/2023</td>\n",
       "      <td>normal</td>\n",
       "      <td>1.0</td>\n",
       "      <td></td>\n",
       "      <td>211</td>\n",
       "      <td>1.5.2</td>\n",
       "      <td>duration</td>\n",
       "    </tr>\n",
       "    <tr>\n",
       "      <th>749037</th>\n",
       "      <td>4525265</td>\n",
       "      <td>11/9/2023</td>\n",
       "      <td>user_engagement</td>\n",
       "      <td>18</td>\n",
       "      <td>125a062c-ec99-43e4-9af9-3687b57f1b90</td>\n",
       "      <td>6</td>\n",
       "      <td>11/3/2023</td>\n",
       "      <td>ue</td>\n",
       "      <td></td>\n",
       "      <td></td>\n",
       "      <td>0</td>\n",
       "      <td>1.5.2</td>\n",
       "      <td>duration</td>\n",
       "    </tr>\n",
       "    <tr>\n",
       "      <th>748413</th>\n",
       "      <td>4521693</td>\n",
       "      <td>11/9/2023</td>\n",
       "      <td>user_engagement</td>\n",
       "      <td>32</td>\n",
       "      <td>87f14937-2eb9-43b8-a21f-3e42bdc8032b</td>\n",
       "      <td>6</td>\n",
       "      <td>11/3/2023</td>\n",
       "      <td>ue</td>\n",
       "      <td></td>\n",
       "      <td></td>\n",
       "      <td>0</td>\n",
       "      <td>1.5.2</td>\n",
       "      <td>duration</td>\n",
       "    </tr>\n",
       "    <tr>\n",
       "      <th>748414</th>\n",
       "      <td>4521694</td>\n",
       "      <td>11/9/2023</td>\n",
       "      <td>user_engagement</td>\n",
       "      <td>32</td>\n",
       "      <td>87f14937-2eb9-43b8-a21f-3e42bdc8032b</td>\n",
       "      <td>6</td>\n",
       "      <td>11/3/2023</td>\n",
       "      <td>ue</td>\n",
       "      <td></td>\n",
       "      <td></td>\n",
       "      <td>0</td>\n",
       "      <td>1.5.2</td>\n",
       "      <td>duration</td>\n",
       "    </tr>\n",
       "    <tr>\n",
       "      <th>748415</th>\n",
       "      <td>4521695</td>\n",
       "      <td>11/9/2023</td>\n",
       "      <td>user_engagement</td>\n",
       "      <td>32</td>\n",
       "      <td>87f14937-2eb9-43b8-a21f-3e42bdc8032b</td>\n",
       "      <td>6</td>\n",
       "      <td>11/3/2023</td>\n",
       "      <td>ue</td>\n",
       "      <td></td>\n",
       "      <td></td>\n",
       "      <td>0</td>\n",
       "      <td>1.5.2</td>\n",
       "      <td>duration</td>\n",
       "    </tr>\n",
       "    <tr>\n",
       "      <th>...</th>\n",
       "      <td>...</td>\n",
       "      <td>...</td>\n",
       "      <td>...</td>\n",
       "      <td>...</td>\n",
       "      <td>...</td>\n",
       "      <td>...</td>\n",
       "      <td>...</td>\n",
       "      <td>...</td>\n",
       "      <td>...</td>\n",
       "      <td>...</td>\n",
       "      <td>...</td>\n",
       "      <td>...</td>\n",
       "      <td>...</td>\n",
       "    </tr>\n",
       "    <tr>\n",
       "      <th>73141</th>\n",
       "      <td>481235</td>\n",
       "      <td>10/28/2023</td>\n",
       "      <td>user_engagement</td>\n",
       "      <td>1</td>\n",
       "      <td>ee9044fc-adb4-4b34-9c04-26a46e63b6d1</td>\n",
       "      <td>0</td>\n",
       "      <td>10/28/2023</td>\n",
       "      <td>ss</td>\n",
       "      <td></td>\n",
       "      <td></td>\n",
       "      <td>0</td>\n",
       "      <td>1.5.2</td>\n",
       "      <td>duration</td>\n",
       "    </tr>\n",
       "    <tr>\n",
       "      <th>73140</th>\n",
       "      <td>481233</td>\n",
       "      <td>10/28/2023</td>\n",
       "      <td>tutorial</td>\n",
       "      <td>1</td>\n",
       "      <td>ee9044fc-adb4-4b34-9c04-26a46e63b6d1</td>\n",
       "      <td>0</td>\n",
       "      <td>10/28/2023</td>\n",
       "      <td>tutorial</td>\n",
       "      <td></td>\n",
       "      <td></td>\n",
       "      <td>4</td>\n",
       "      <td>1.5.2</td>\n",
       "      <td>processing</td>\n",
       "    </tr>\n",
       "    <tr>\n",
       "      <th>73139</th>\n",
       "      <td>481232</td>\n",
       "      <td>10/28/2023</td>\n",
       "      <td>tutorial</td>\n",
       "      <td>1</td>\n",
       "      <td>ee9044fc-adb4-4b34-9c04-26a46e63b6d1</td>\n",
       "      <td>0</td>\n",
       "      <td>10/28/2023</td>\n",
       "      <td>tutorial</td>\n",
       "      <td></td>\n",
       "      <td></td>\n",
       "      <td>3</td>\n",
       "      <td>1.5.2</td>\n",
       "      <td>processing</td>\n",
       "    </tr>\n",
       "    <tr>\n",
       "      <th>73138</th>\n",
       "      <td>481231</td>\n",
       "      <td>10/28/2023</td>\n",
       "      <td>tutorial</td>\n",
       "      <td>1</td>\n",
       "      <td>ee9044fc-adb4-4b34-9c04-26a46e63b6d1</td>\n",
       "      <td>0</td>\n",
       "      <td>10/28/2023</td>\n",
       "      <td>tutorial</td>\n",
       "      <td></td>\n",
       "      <td></td>\n",
       "      <td>2</td>\n",
       "      <td>1.5.2</td>\n",
       "      <td>processing</td>\n",
       "    </tr>\n",
       "    <tr>\n",
       "      <th>37</th>\n",
       "      <td>176</td>\n",
       "      <td>10/28/2023</td>\n",
       "      <td>game_start</td>\n",
       "      <td>1</td>\n",
       "      <td>e183eeec-de1c-4bcb-a27a-01e69062f12e</td>\n",
       "      <td>0</td>\n",
       "      <td>10/28/2023</td>\n",
       "      <td>normal</td>\n",
       "      <td></td>\n",
       "      <td></td>\n",
       "      <td>0</td>\n",
       "      <td>1.5.2</td>\n",
       "      <td>duration</td>\n",
       "    </tr>\n",
       "  </tbody>\n",
       "</table>\n",
       "<p>357718 rows × 13 columns</p>\n",
       "</div>"
      ],
      "text/plain": [
       "            STT   date_time       event_name  level  \\\n",
       "723575  4310996   11/9/2023         game_end     62   \n",
       "749037  4525265   11/9/2023  user_engagement     18   \n",
       "748413  4521693   11/9/2023  user_engagement     32   \n",
       "748414  4521694   11/9/2023  user_engagement     32   \n",
       "748415  4521695   11/9/2023  user_engagement     32   \n",
       "...         ...         ...              ...    ...   \n",
       "73141    481235  10/28/2023  user_engagement      1   \n",
       "73140    481233  10/28/2023         tutorial      1   \n",
       "73139    481232  10/28/2023         tutorial      1   \n",
       "73138    481231  10/28/2023         tutorial      1   \n",
       "37          176  10/28/2023       game_start      1   \n",
       "\n",
       "                                        user  day_diff        day0 mode_game  \\\n",
       "723575  98d9de28-c32e-4994-bbf0-8ebc4ccfaaad         6   11/3/2023    normal   \n",
       "749037  125a062c-ec99-43e4-9af9-3687b57f1b90         6   11/3/2023        ue   \n",
       "748413  87f14937-2eb9-43b8-a21f-3e42bdc8032b         6   11/3/2023        ue   \n",
       "748414  87f14937-2eb9-43b8-a21f-3e42bdc8032b         6   11/3/2023        ue   \n",
       "748415  87f14937-2eb9-43b8-a21f-3e42bdc8032b         6   11/3/2023        ue   \n",
       "...                                      ...       ...         ...       ...   \n",
       "73141   ee9044fc-adb4-4b34-9c04-26a46e63b6d1         0  10/28/2023        ss   \n",
       "73140   ee9044fc-adb4-4b34-9c04-26a46e63b6d1         0  10/28/2023  tutorial   \n",
       "73139   ee9044fc-adb4-4b34-9c04-26a46e63b6d1         0  10/28/2023  tutorial   \n",
       "73138   ee9044fc-adb4-4b34-9c04-26a46e63b6d1         0  10/28/2023  tutorial   \n",
       "37      e183eeec-de1c-4bcb-a27a-01e69062f12e         0  10/28/2023    normal   \n",
       "\n",
       "        win reason_to_die  quantity version tutorial_status  \n",
       "723575  1.0                     211   1.5.2        duration  \n",
       "749037                            0   1.5.2        duration  \n",
       "748413                            0   1.5.2        duration  \n",
       "748414                            0   1.5.2        duration  \n",
       "748415                            0   1.5.2        duration  \n",
       "...     ...           ...       ...     ...             ...  \n",
       "73141                             0   1.5.2        duration  \n",
       "73140                             4   1.5.2      processing  \n",
       "73139                             3   1.5.2      processing  \n",
       "73138                             2   1.5.2      processing  \n",
       "37                                0   1.5.2        duration  \n",
       "\n",
       "[357718 rows x 13 columns]"
      ]
     },
     "execution_count": 218,
     "metadata": {},
     "output_type": "execute_result"
    }
   ],
   "source": [
    "df_152.sort_values(by = ['date_time'], ascending=False)"
   ]
  }
 ],
 "metadata": {
  "kernelspec": {
   "display_name": "game",
   "language": "python",
   "name": "python3"
  },
  "language_info": {
   "codemirror_mode": {
    "name": "ipython",
    "version": 3
   },
   "file_extension": ".py",
   "mimetype": "text/x-python",
   "name": "python",
   "nbconvert_exporter": "python",
   "pygments_lexer": "ipython3",
   "version": "3.10.6"
  }
 },
 "nbformat": 4,
 "nbformat_minor": 2
}
